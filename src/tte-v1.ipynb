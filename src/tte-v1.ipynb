{
 "cells": [
  {
   "cell_type": "code",
   "execution_count": 1,
   "metadata": {},
   "outputs": [],
   "source": [
    "import os\n",
    "\n",
    "import pandas as pd"
   ]
  },
  {
   "cell_type": "markdown",
   "metadata": {},
   "source": [
    "# Target Trial Emulation in Python\n",
    "\n",
    "On this notebook we will be following the tutorial [*Target Trial Emulation in R*](https://rpubs.com/alanyang0924/TTE) by Alan Yang and translate the **R** code to **Python**.\n",
    "\n",
    "But before we do, since the tutorial is using a package [`TrialEmulation`](https://github.com/Causal-LDA/TrialEmulation/blob/v0.0.4.2/R/) that is not available in Python as of the making of this notebook, we will first have to simulate the class `trial_sequence`. We will not simulate everything from the package, only the functions that are used in the tutorial."
   ]
  },
  {
   "cell_type": "code",
   "execution_count": 2,
   "metadata": {},
   "outputs": [],
   "source": [
    "from trial_sequence import trial_sequence\n",
    "from trial_sequence.utils import stats_glm_logit\n",
    "from trial_sequence.te_weights import show_weight_models"
   ]
  },
  {
   "cell_type": "markdown",
   "metadata": {},
   "source": [
    "We separated the logic of [`trial_sequence`](trial_sequence) for readability."
   ]
  },
  {
   "cell_type": "markdown",
   "metadata": {},
   "source": [
    "## 1. Setup\n",
    "\n",
    "First, we have to identify what estimand will be used. For simplicity we will just follow what the tutorial used, which is **per-protocol (PP)** and **intention-to-treat (ITT)**; besides these two, there is also **as-treated (AT)**."
   ]
  },
  {
   "cell_type": "code",
   "execution_count": 3,
   "metadata": {},
   "outputs": [],
   "source": [
    "trial_pp = trial_sequence(estimand=\"PP\")\n",
    "trial_itt = trial_sequence(estimand=\"ITT\")"
   ]
  },
  {
   "cell_type": "markdown",
   "metadata": {},
   "source": [
    "Let's also make sure that we have dedicated directories to save the files for later inspection."
   ]
  },
  {
   "cell_type": "code",
   "execution_count": 4,
   "metadata": {},
   "outputs": [],
   "source": [
    "trial_pp_dir = os.path.join(os.getcwd(), \"trial_pp\")\n",
    "os.makedirs(trial_pp_dir, exist_ok=True)\n",
    "\n",
    "trial_itt_dir = os.path.join(os.getcwd(), \"trial_itt\")\n",
    "os.makedirs(trial_itt_dir, exist_ok=True)"
   ]
  },
  {
   "cell_type": "markdown",
   "metadata": {},
   "source": [
    "## 2. Data Preparation"
   ]
  },
  {
   "cell_type": "code",
   "execution_count": 5,
   "metadata": {},
   "outputs": [
    {
     "data": {
      "text/html": [
       "<div>\n",
       "<style scoped>\n",
       "    .dataframe tbody tr th:only-of-type {\n",
       "        vertical-align: middle;\n",
       "    }\n",
       "\n",
       "    .dataframe tbody tr th {\n",
       "        vertical-align: top;\n",
       "    }\n",
       "\n",
       "    .dataframe thead th {\n",
       "        text-align: right;\n",
       "    }\n",
       "</style>\n",
       "<table border=\"1\" class=\"dataframe\">\n",
       "  <thead>\n",
       "    <tr style=\"text-align: right;\">\n",
       "      <th></th>\n",
       "      <th>period</th>\n",
       "      <th>treatment</th>\n",
       "      <th>x1</th>\n",
       "      <th>x2</th>\n",
       "      <th>x3</th>\n",
       "      <th>x4</th>\n",
       "      <th>age</th>\n",
       "      <th>age_s</th>\n",
       "      <th>outcome</th>\n",
       "      <th>censored</th>\n",
       "      <th>eligible</th>\n",
       "    </tr>\n",
       "    <tr>\n",
       "      <th>id</th>\n",
       "      <th></th>\n",
       "      <th></th>\n",
       "      <th></th>\n",
       "      <th></th>\n",
       "      <th></th>\n",
       "      <th></th>\n",
       "      <th></th>\n",
       "      <th></th>\n",
       "      <th></th>\n",
       "      <th></th>\n",
       "      <th></th>\n",
       "    </tr>\n",
       "  </thead>\n",
       "  <tbody>\n",
       "    <tr>\n",
       "      <th>1</th>\n",
       "      <td>0</td>\n",
       "      <td>1</td>\n",
       "      <td>1</td>\n",
       "      <td>1.146148</td>\n",
       "      <td>0</td>\n",
       "      <td>0.734203</td>\n",
       "      <td>36</td>\n",
       "      <td>0.083333</td>\n",
       "      <td>0</td>\n",
       "      <td>0</td>\n",
       "      <td>1</td>\n",
       "    </tr>\n",
       "    <tr>\n",
       "      <th>2</th>\n",
       "      <td>0</td>\n",
       "      <td>0</td>\n",
       "      <td>1</td>\n",
       "      <td>-0.802142</td>\n",
       "      <td>0</td>\n",
       "      <td>-0.990794</td>\n",
       "      <td>26</td>\n",
       "      <td>-0.750000</td>\n",
       "      <td>0</td>\n",
       "      <td>0</td>\n",
       "      <td>1</td>\n",
       "    </tr>\n",
       "    <tr>\n",
       "      <th>3</th>\n",
       "      <td>0</td>\n",
       "      <td>1</td>\n",
       "      <td>0</td>\n",
       "      <td>0.571029</td>\n",
       "      <td>1</td>\n",
       "      <td>0.391966</td>\n",
       "      <td>48</td>\n",
       "      <td>1.083333</td>\n",
       "      <td>0</td>\n",
       "      <td>0</td>\n",
       "      <td>1</td>\n",
       "    </tr>\n",
       "    <tr>\n",
       "      <th>4</th>\n",
       "      <td>0</td>\n",
       "      <td>0</td>\n",
       "      <td>0</td>\n",
       "      <td>-0.107079</td>\n",
       "      <td>1</td>\n",
       "      <td>-1.613258</td>\n",
       "      <td>29</td>\n",
       "      <td>-0.500000</td>\n",
       "      <td>0</td>\n",
       "      <td>0</td>\n",
       "      <td>1</td>\n",
       "    </tr>\n",
       "    <tr>\n",
       "      <th>5</th>\n",
       "      <td>0</td>\n",
       "      <td>1</td>\n",
       "      <td>1</td>\n",
       "      <td>0.749092</td>\n",
       "      <td>0</td>\n",
       "      <td>1.620330</td>\n",
       "      <td>32</td>\n",
       "      <td>-0.250000</td>\n",
       "      <td>0</td>\n",
       "      <td>0</td>\n",
       "      <td>1</td>\n",
       "    </tr>\n",
       "  </tbody>\n",
       "</table>\n",
       "</div>"
      ],
      "text/plain": [
       "    period  treatment  x1        x2  x3        x4  age     age_s  outcome  \\\n",
       "id                                                                          \n",
       "1        0          1   1  1.146148   0  0.734203   36  0.083333        0   \n",
       "2        0          0   1 -0.802142   0 -0.990794   26 -0.750000        0   \n",
       "3        0          1   0  0.571029   1  0.391966   48  1.083333        0   \n",
       "4        0          0   0 -0.107079   1 -1.613258   29 -0.500000        0   \n",
       "5        0          1   1  0.749092   0  1.620330   32 -0.250000        0   \n",
       "\n",
       "    censored  eligible  \n",
       "id                      \n",
       "1          0         1  \n",
       "2          0         1  \n",
       "3          0         1  \n",
       "4          0         1  \n",
       "5          0         1  "
      ]
     },
     "execution_count": 5,
     "metadata": {},
     "output_type": "execute_result"
    }
   ],
   "source": [
    "data_censored = pd.read_csv(\"data_censored.csv\")\n",
    "data_censored.groupby(\"id\").first().head()"
   ]
  },
  {
   "cell_type": "code",
   "execution_count": 6,
   "metadata": {},
   "outputs": [
    {
     "data": {
      "text/plain": [
       "\n",
       "Trial Sequence Object\n",
       "Estimand: Intent-to-Treat\n",
       "\n",
       "Data:\n",
       " - N: 725 observations from 89 patients\n",
       "     outcome  id  x3        x4  eligible  treatment  age     age_s  \\\n",
       "0          0   1   0  0.734203         1          1   36  0.083333   \n",
       "1          0   1   0  0.734203         0          1   37  0.166667   \n",
       "2          0   1   0  0.734203         0          1   38  0.250000   \n",
       "3          0   1   0  0.734203         0          1   39  0.333333   \n",
       "4          0   1   0  0.734203         0          1   40  0.416667   \n",
       "..       ...  ..  ..       ...       ...        ...  ...       ...   \n",
       "719        0  99   1  0.575268         0          0   67  2.666667   \n",
       "720        0  99   1  0.575268         0          0   68  2.750000   \n",
       "721        0  99   1  0.575268         0          0   69  2.833333   \n",
       "722        0  99   1  0.575268         0          1   70  2.916667   \n",
       "723        0  99   1  0.575268         0          1   71  3.000000   \n",
       "\n",
       "     time_on_regime  period  x1        x2  censored  \n",
       "0                 0       0   1  1.146148         0  \n",
       "1                 1       1   1  0.002200         0  \n",
       "2                 1       2   0 -0.481762         0  \n",
       "3                 1       3   0  0.007872         0  \n",
       "4                 1       4   1  0.216054         0  \n",
       "..              ...     ...  ..       ...       ...  \n",
       "719               1       2   0  1.650478         0  \n",
       "720               1       3   0 -0.747906         0  \n",
       "721               1       4   0 -0.790056         0  \n",
       "722               1       5   1  0.387429         0  \n",
       "723               1       6   1 -0.033762         0  \n",
       "\n",
       "[725 rows x 13 columns]\n",
       "        "
      ]
     },
     "execution_count": 6,
     "metadata": {},
     "output_type": "execute_result"
    }
   ],
   "source": [
    "trial_pp.set_data(\n",
    "    id=\"id\",\n",
    "    period=\"period\",\n",
    "    outcome=\"outcome\",\n",
    "    eligible=\"eligible\",\n",
    "    treatment=\"treatment\",\n",
    "    data=data_censored\n",
    ")\n",
    "\n",
    "trial_itt.set_data(\n",
    "    id=\"id\",\n",
    "    period=\"period\",\n",
    "    outcome=\"outcome\",\n",
    "    eligible=\"eligible\",\n",
    "    treatment=\"treatment\",\n",
    "    data=data_censored\n",
    ")\n",
    "\n",
    "trial_itt"
   ]
  },
  {
   "cell_type": "markdown",
   "metadata": {},
   "source": [
    "## 3. Weight Models and Censoring\n",
    "\n",
    "The tutorial used inverse probability of censoring weights (IPCW) to adjust for the effects of informative censoring. To estimate these weights, it constructed time-to-censoring event models and fit two sets of models: one for censoring due to deviation from the assigned treatment, and another for other forms of informative censoring.\n",
    "\n",
    "### 3.1 Censoring Due to Treatment Switching\n",
    "\n",
    "The tutorial demonstrates how to set up model formulas for estimating the probability of receiving treatment in the current period. It fits separate models for patients who received treatment $(treatment = 1)$ and those who did not $(treatment = 0)$ in the previous period. To obtain stabilized weights, the approach involves fitting both numerator and denominator models.\n",
    "\n",
    "Also, the tutorial outlines optional arguments that allow you to specify columns to include or exclude observations from the treatment models. This can be particularly useful when a patient is unable to deviate from a particular treatment assignment during a given period."
   ]
  },
  {
   "cell_type": "code",
   "execution_count": 7,
   "metadata": {},
   "outputs": [
    {
     "data": {
      "text/plain": [
       "Numerator formula: treatment ~ age\n",
       "Denominator formulat: treatment ~ age + x1 + x3\n",
       "Model fitter type: te_stats_glm_logit\n",
       "Weight models not fitted. Use calculate_weights()"
      ]
     },
     "execution_count": 7,
     "metadata": {},
     "output_type": "execute_result"
    }
   ],
   "source": [
    "trial_pp.set_switch_weight_model(\n",
    "    numerator=\"age\",\n",
    "    denominator=\"age + x1 + x3\",\n",
    "    model_fitter=stats_glm_logit(save_path=os.path.join(trial_pp_dir, \"switch_models\"))\n",
    ")\n",
    "\n",
    "trial_pp.switch_weights"
   ]
  },
  {
   "cell_type": "markdown",
   "metadata": {},
   "source": [
    "If we attempted this function on a ITT estimand, the function will raise an error."
   ]
  },
  {
   "cell_type": "markdown",
   "metadata": {},
   "source": [
    "### 3.2 Other Informative Censoring\n",
    "\n",
    "The tutorial introduced that if there’s additional informative censoring in the data, you can build similar models to estimate the inverse probability of censoring weights (IPCW). This method works for all estimands, and you simply need to specify the `censor_event` column as the censoring indicator."
   ]
  },
  {
   "cell_type": "code",
   "execution_count": 8,
   "metadata": {},
   "outputs": [
    {
     "data": {
      "text/plain": [
       "Numerator formula: 1 - censored ~ x2\n",
       "Denominator formulat: 1 - censored ~ x2 + x1\n",
       "Model fitter type: te_stats_glm_logit\n",
       "Weight models not fitted. Use calculate_weights()"
      ]
     },
     "execution_count": 8,
     "metadata": {},
     "output_type": "execute_result"
    }
   ],
   "source": [
    "trial_pp.set_censor_weight_model(\n",
    "    censor_event=\"censored\",\n",
    "    numerator=\"x2\",\n",
    "    denominator=\"x2 + x1\",\n",
    "    pool_models=None,\n",
    "    model_fitter=stats_glm_logit(save_path=os.path.join(trial_pp_dir, \"switch_models\"))\n",
    ")\n",
    "\n",
    "trial_pp.censor_weights"
   ]
  },
  {
   "cell_type": "code",
   "execution_count": 9,
   "metadata": {},
   "outputs": [
    {
     "data": {
      "text/plain": [
       "Numerator formula: 1 - censored ~ x2\n",
       "Denominator formulat: 1 - censored ~ x2 + x1\n",
       "Numerator model is pooled across treatment arms. Denominator model is not pooled.\n",
       "Model fitter type: te_stats_glm_logit\n",
       "Weight models not fitted. Use calculate_weights()"
      ]
     },
     "execution_count": 9,
     "metadata": {},
     "output_type": "execute_result"
    }
   ],
   "source": [
    "trial_itt.set_censor_weight_model(\n",
    "    censor_event=\"censored\",\n",
    "    numerator=\"x2\",\n",
    "    denominator=\"x2 + x1\",\n",
    "    pool_models=\"numerator\",\n",
    "    model_fitter=stats_glm_logit(save_path=os.path.join(trial_itt_dir, \"switch_models\"))\n",
    ")\n",
    "\n",
    "trial_itt.censor_weights"
   ]
  },
  {
   "cell_type": "markdown",
   "metadata": {},
   "source": [
    "## 4. Calculate Weights\n",
    "\n",
    "The tutorial then demonstrates how to fit each individual model and merge them into a set of weights using the `calculate_weights()` function."
   ]
  },
  {
   "cell_type": "code",
   "execution_count": 10,
   "metadata": {},
   "outputs": [],
   "source": [
    "trial_pp.calculate_weights()\n",
    "trial_itt.calculate_weights()\n"
   ]
  },
  {
   "cell_type": "markdown",
   "metadata": {},
   "source": [
    "The full object models and summaries are stored in the directories that we created from [step 1](#1-setup). We can then print the result as such:"
   ]
  },
  {
   "cell_type": "code",
   "execution_count": 11,
   "metadata": {},
   "outputs": [
    {
     "name": "stdout",
     "output_type": "stream",
     "text": [
      "Weight Models for Informative Censoring\n",
      "---------------------------------------\n",
      "\n",
      "[[n]]\n",
      "Model: P(censor_event = 0 | X) for numerator\n",
      "\n",
      "       Coef.     Std.Err.            z    P>|z|        [0.025       0.975]\n",
      "2.656607e+01 13424.973712 1.978854e-03 0.998421 -26285.898900 26339.031037\n",
      "5.549933e-15 13267.631763 4.183062e-19 1.000000 -26004.080416 26004.080416\n",
      "\n",
      "                  0                1               2           3\n",
      "             Model:              GLM            AIC:      4.0000\n",
      "     Link Function:            Logit            BIC:  -4761.8021\n",
      "Dependent Variable:        Intercept Log-Likelihood: -2.1018e-09\n",
      "              Date: 2025-03-09 05:08        LL-Null:      0.0000\n",
      "  No. Observations:              725       Deviance:  4.2061e-09\n",
      "          Df Model:                1   Pearson chi2:    2.10e-09\n",
      "      Df Residuals:              723          Scale:      1.0000\n",
      "            Method:             IRLS                            \n",
      "\n",
      "                                                                                               path\n",
      "/media/New Volume/Documents/GitHub/tte-insighting/src/trial_itt/switch_models/model_4j98j015.joblib\n",
      "\n",
      "\n",
      "[[d0]]\n",
      "Model: P(censor_event = 0 | X, previous treatment = 0) for denominator\n",
      "\n",
      "        Coef.     Std.Err.             z    P>|z|        [0.025       0.975]\n",
      " 2.656607e+01 24268.870960  1.094656e-03 0.999127 -47539.546959 47592.679096\n",
      " 2.221001e-13 17755.571538  1.250876e-17 1.000000 -34800.280740 34800.280740\n",
      "-6.041695e-14 34514.106063 -1.750500e-18 1.000000 -67646.404842 67646.404842\n",
      "\n",
      "                  0                1               2           3\n",
      "             Model:              GLM            AIC:      6.0000\n",
      "     Link Function:            Logit            BIC:  -2561.0278\n",
      "Dependent Variable:        Intercept Log-Likelihood: -1.2350e-09\n",
      "              Date: 2025-03-09 05:08        LL-Null:      0.0000\n",
      "  No. Observations:              426       Deviance:  2.4715e-09\n",
      "          Df Model:                2   Pearson chi2:    1.24e-09\n",
      "      Df Residuals:              423          Scale:      1.0000\n",
      "            Method:             IRLS                            \n",
      "\n",
      "                                                                                               path\n",
      "/media/New Volume/Documents/GitHub/tte-insighting/src/trial_itt/switch_models/model_sp819tjx.joblib\n",
      "\n",
      "\n",
      "[[d1]]\n",
      "Model: P(censor_event = 0 | X, previous treatment = 1) for denominator\n",
      "\n",
      "        Coef.     Std.Err.             z    P>|z|        [0.025       0.975]\n",
      " 2.556607e+01 15508.039995  1.648569e-03 0.998685 -30369.633793 30420.765930\n",
      "-4.904410e-14 12409.263888 -3.952217e-18 1.000000 -24321.710295 24321.710295\n",
      " 9.554857e-15 27929.408831  3.421074e-19 1.000000 -54740.635419 54740.635419\n",
      "\n",
      "                  0                1               2           3\n",
      "             Model:              GLM            AIC:      6.0000\n",
      "     Link Function:            Logit            BIC:  -1687.3313\n",
      "Dependent Variable:        Intercept Log-Likelihood: -2.3572e-09\n",
      "              Date: 2025-03-09 05:08        LL-Null:      0.0000\n",
      "  No. Observations:              299       Deviance:  4.7152e-09\n",
      "          Df Model:                2   Pearson chi2:    2.36e-09\n",
      "      Df Residuals:              296          Scale:      1.0000\n",
      "            Method:             IRLS                            \n",
      "\n",
      "                                                                                               path\n",
      "/media/New Volume/Documents/GitHub/tte-insighting/src/trial_itt/switch_models/model_43dr01cl.joblib\n",
      "\n",
      "\n"
     ]
    }
   ],
   "source": [
    "show_weight_models(trial_itt)"
   ]
  },
  {
   "cell_type": "code",
   "execution_count": 12,
   "metadata": {},
   "outputs": [
    {
     "name": "stdout",
     "output_type": "stream",
     "text": [
      "Weight Models for Informative Censoring\n",
      "---------------------------------------\n",
      "\n",
      "[[n0]]\n",
      "Model: P(censor_event = 0 | X, previous treatment = 0) for numerator\n",
      "\n",
      "       Coef.     Std.Err.            z   P>|z|        [0.025       0.975]\n",
      "2.556607e+01 16581.144002 1.541876e-03 0.99877 -32472.878998 32524.011135\n",
      "1.604272e-14 17442.895871 9.197282e-19 1.00000 -34187.447692 34187.447692\n",
      "\n",
      "                  0                1               2           3\n",
      "             Model:              GLM            AIC:      4.0000\n",
      "     Link Function:            Logit            BIC:   -862.8141\n",
      "Dependent Variable:        Intercept Log-Likelihood: -1.3402e-09\n",
      "              Date: 2025-03-09 05:08        LL-Null:      0.0000\n",
      "  No. Observations:              170       Deviance:  2.6809e-09\n",
      "          Df Model:                1   Pearson chi2:    1.34e-09\n",
      "      Df Residuals:              168          Scale:      1.0000\n",
      "            Method:             IRLS                            \n",
      "\n",
      "                                                                                              path\n",
      "/media/New Volume/Documents/GitHub/tte-insighting/src/trial_pp/switch_models/model_306k_z3y.joblib\n",
      "\n",
      "\n",
      "[[n1]]\n",
      "Model: P(censor_event = 0 | X, previous treatment = 1) for numerator\n",
      "\n",
      "       Coef.     Std.Err.            z   P>|z|        [0.025       0.975]\n",
      "2.556607e+01 18048.041846 1.416556e-03 0.99887 -35347.945941 35399.078079\n",
      "1.858930e-14 17903.673111 1.038295e-18 1.00000 -35090.554488 35090.554488\n",
      "\n",
      "                  0                1               2           3\n",
      "             Model:              GLM            AIC:      4.0000\n",
      "     Link Function:            Logit            BIC:   -747.5747\n",
      "Dependent Variable:        Intercept Log-Likelihood: -1.1904e-09\n",
      "              Date: 2025-03-09 05:08        LL-Null:         nan\n",
      "  No. Observations:              151       Deviance:  2.3813e-09\n",
      "          Df Model:                1   Pearson chi2:    1.19e-09\n",
      "      Df Residuals:              149          Scale:      1.0000\n",
      "            Method:             IRLS                            \n",
      "\n",
      "                                                                                              path\n",
      "/media/New Volume/Documents/GitHub/tte-insighting/src/trial_pp/switch_models/model_13lt2ms2.joblib\n",
      "\n",
      "\n",
      "[[d0]]\n",
      "Model: P(censor_event = 0 | X, previous treatment = 0) for denominator\n",
      "\n",
      "        Coef.     Std.Err.             z    P>|z|        [0.025       0.975]\n",
      " 2.556607e+01 22632.355093  1.129625e-03 0.999099 -44333.034798 44384.166935\n",
      " 4.973522e-13 17533.283715  2.836617e-17 1.000000 -34364.604612 34364.604612\n",
      "-1.332268e-14 33418.053594 -3.986670e-19 1.000000 -65498.181478 65498.181478\n",
      "\n",
      "                  0                1               2           3\n",
      "             Model:              GLM            AIC:      6.0000\n",
      "     Link Function:            Logit            BIC:   -857.6783\n",
      "Dependent Variable:        Intercept Log-Likelihood: -1.3402e-09\n",
      "              Date: 2025-03-09 05:08        LL-Null:      0.0000\n",
      "  No. Observations:              170       Deviance:  2.6809e-09\n",
      "          Df Model:                2   Pearson chi2:    1.34e-09\n",
      "      Df Residuals:              167          Scale:      1.0000\n",
      "            Method:             IRLS                            \n",
      "\n",
      "                                                                                              path\n",
      "/media/New Volume/Documents/GitHub/tte-insighting/src/trial_pp/switch_models/model_3_ug_tbp.joblib\n",
      "\n",
      "\n",
      "[[d1]]\n",
      "Model: P(censor_event = 0 | X, previous treatment = 1) for denominator\n",
      "\n",
      "        Coef.     Std.Err.             z    P>|z|        [0.025       0.975]\n",
      " 2.556607e+01 20891.877611  1.223732e-03 0.999024 -40921.761619 40972.893756\n",
      "-9.263423e-15 18011.094635 -5.143176e-19 1.000000 -35301.096808 35301.096808\n",
      "-1.165734e-15 41113.683431 -2.835392e-20 1.000000 -80581.338796 80581.338796\n",
      "\n",
      "                  0                1               2           3\n",
      "             Model:              GLM            AIC:      6.0000\n",
      "     Link Function:            Logit            BIC:   -742.5574\n",
      "Dependent Variable:        Intercept Log-Likelihood: -1.1904e-09\n",
      "              Date: 2025-03-09 05:08        LL-Null:         nan\n",
      "  No. Observations:              151       Deviance:  2.3813e-09\n",
      "          Df Model:                2   Pearson chi2:    1.19e-09\n",
      "      Df Residuals:              148          Scale:      1.0000\n",
      "            Method:             IRLS                            \n",
      "\n",
      "                                                                                              path\n",
      "/media/New Volume/Documents/GitHub/tte-insighting/src/trial_pp/switch_models/model_5ctnj_5q.joblib\n",
      "\n",
      "\n",
      "Weight Models for Treatment Switching\n",
      "-------------------------------------\n",
      "\n",
      "[[n1]]\n",
      "Model: P(treatment = 1 | previous treatment = 1) for numerator\n",
      "\n",
      "    Coef.  Std.Err.         z    P>|z|    [0.025   0.975]\n",
      " 1.801622  0.774631  2.325780 0.020030  0.283372 3.319871\n",
      "-0.023511  0.016920 -1.389581 0.164656 -0.056673 0.009651\n",
      "\n",
      "                  0                1               2         3\n",
      "             Model:              GLM            AIC:  190.8756\n",
      "     Link Function:            Logit            BIC: -560.6991\n",
      "Dependent Variable:        treatment Log-Likelihood:   -93.438\n",
      "              Date: 2025-03-09 05:08        LL-Null:   -94.415\n",
      "  No. Observations:              151       Deviance:    186.88\n",
      "          Df Model:                1   Pearson chi2:      151.\n",
      "      Df Residuals:              149          Scale:    1.0000\n",
      "            Method:             IRLS                          \n",
      "\n",
      "                                                                                              path\n",
      "/media/New Volume/Documents/GitHub/tte-insighting/src/trial_pp/switch_models/model_8kh_kf8u.joblib\n",
      "\n",
      "\n",
      "[[d1]]\n",
      "Model: P(treatment = 1 | previous treatment = 1) for denominator\n",
      "\n",
      "    Coef.  Std.Err.         z    P>|z|    [0.025   0.975]\n",
      " 1.554852  0.817070  1.902960 0.057046 -0.046576 3.156279\n",
      "-0.023120  0.016968 -1.362546 0.173026 -0.056378 0.010137\n",
      " 0.529159  0.435949  1.213810 0.224820 -0.325285 1.383602\n",
      " 0.213196  0.357444  0.596446 0.550877 -0.487381 0.913773\n",
      "\n",
      "                  0                1               2         3\n",
      "             Model:              GLM            AIC:  193.0957\n",
      "     Link Function:            Logit            BIC: -552.4444\n",
      "Dependent Variable:        treatment Log-Likelihood:   -92.548\n",
      "              Date: 2025-03-09 05:08        LL-Null:   -94.415\n",
      "  No. Observations:              151       Deviance:    185.10\n",
      "          Df Model:                3   Pearson chi2:      150.\n",
      "      Df Residuals:              147          Scale:    1.0000\n",
      "            Method:             IRLS                          \n",
      "\n",
      "                                                                                              path\n",
      "/media/New Volume/Documents/GitHub/tte-insighting/src/trial_pp/switch_models/model_iggkh4ug.joblib\n",
      "\n",
      "\n",
      "[[n0]]\n",
      "Model: P(treatment = 1 | previous treatment = 0) for numerator\n",
      "\n",
      "    Coef.  Std.Err.         z    P>|z|    [0.025    0.975]\n",
      " 1.092123  0.605827  1.802698 0.071436 -0.095276  2.279522\n",
      "-0.033604  0.014395 -2.334453 0.019572 -0.061817 -0.005391\n",
      "\n",
      "                  0                1               2         3\n",
      "             Model:              GLM            AIC:  230.5492\n",
      "     Link Function:            Logit            BIC: -636.2650\n",
      "Dependent Variable:        treatment Log-Likelihood:   -113.27\n",
      "              Date: 2025-03-09 05:08        LL-Null:   -116.14\n",
      "  No. Observations:              170       Deviance:    226.55\n",
      "          Df Model:                1   Pearson chi2:      170.\n",
      "      Df Residuals:              168          Scale:    1.0000\n",
      "            Method:             IRLS                          \n",
      "\n",
      "                                                                                              path\n",
      "/media/New Volume/Documents/GitHub/tte-insighting/src/trial_pp/switch_models/model_kfdcv80v.joblib\n",
      "\n",
      "\n",
      "[[d0]]\n",
      "Model: P(treatment = 1 | previous treatment = 0) for denominator\n",
      "\n",
      "    Coef.  Std.Err.         z    P>|z|    [0.025    0.975]\n",
      " 1.030847  0.630527  1.634897 0.102071 -0.204964  2.266657\n",
      "-0.036333  0.014726 -2.467278 0.013614 -0.065195 -0.007471\n",
      " 0.644738  0.323468  1.993201 0.046239  0.010751  1.278724\n",
      "-0.234110  0.321479 -0.728228 0.466474 -0.864198  0.395978\n",
      "\n",
      "                  0                1               2         3\n",
      "             Model:              GLM            AIC:  230.0600\n",
      "     Link Function:            Logit            BIC: -630.4826\n",
      "Dependent Variable:        treatment Log-Likelihood:   -111.03\n",
      "              Date: 2025-03-09 05:08        LL-Null:   -116.14\n",
      "  No. Observations:              170       Deviance:    222.06\n",
      "          Df Model:                3   Pearson chi2:      171.\n",
      "      Df Residuals:              166          Scale:    1.0000\n",
      "            Method:             IRLS                          \n",
      "\n",
      "                                                                                              path\n",
      "/media/New Volume/Documents/GitHub/tte-insighting/src/trial_pp/switch_models/model_5njw5sjd.joblib\n",
      "\n",
      "\n"
     ]
    }
   ],
   "source": [
    "show_weight_models(trial_pp)"
   ]
  },
  {
   "cell_type": "markdown",
   "metadata": {},
   "source": [
    "## 5. Specify Outcome Model\n",
    "\n",
    "The tutorial then shows how to specify the outcome model, where you can incorporate adjustment terms for any variables in the dataset. It automatically includes the numerator terms from the stabilized weight models in the outcome model's formula."
   ]
  },
  {
   "cell_type": "code",
   "execution_count": null,
   "metadata": {},
   "outputs": [],
   "source": []
  }
 ],
 "metadata": {
  "kernelspec": {
   "display_name": ".venv",
   "language": "python",
   "name": "python3"
  },
  "language_info": {
   "codemirror_mode": {
    "name": "ipython",
    "version": 3
   },
   "file_extension": ".py",
   "mimetype": "text/x-python",
   "name": "python",
   "nbconvert_exporter": "python",
   "pygments_lexer": "ipython3",
   "version": "3.13.1"
  }
 },
 "nbformat": 4,
 "nbformat_minor": 2
}
