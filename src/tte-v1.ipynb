{
 "cells": [
  {
   "cell_type": "code",
   "execution_count": null,
   "metadata": {},
   "outputs": [],
   "source": [
    "import os\n",
    "import tempfile"
   ]
  },
  {
   "cell_type": "markdown",
   "metadata": {},
   "source": [
    "# Target Trial Emulation in Python\n",
    "\n",
    "On this notebook we will be following the tutorial [*Target Trial Emulation in R*](https://rpubs.com/alanyang0924/TTE) by Alan Yang and translate the **R** code to **Python**.\n",
    "\n",
    "But before we do, since the tutorial is using a package [`TrialEmulation`](https://github.com/Causal-LDA/TrialEmulation/blob/v0.0.4.2/R/) that is not available in Python as of the making of this notebook, we will first have to simulate the class `trial_sequence`. We will not simulate everything from the package, only the functions that are used in the tutorial."
   ]
  },
  {
   "cell_type": "code",
   "execution_count": 2,
   "metadata": {},
   "outputs": [],
   "source": [
    "from trial_sequence import trial_sequence\n",
    "from trial_sequence.utils import stats_glm_logit"
   ]
  },
  {
   "cell_type": "markdown",
   "metadata": {},
   "source": [
    "We separated the logic of [`trial_sequence`](trial_sequence) for readability."
   ]
  },
  {
   "cell_type": "markdown",
   "metadata": {},
   "source": [
    "## 1. Setup\n",
    "\n",
    "First, we have to identify what estimand will be used. For simplicity we will just follow what the tutorial used, which is PP and ITT; besides these two, there is also **as-treated (AT)**."
   ]
  },
  {
   "cell_type": "code",
   "execution_count": 3,
   "metadata": {},
   "outputs": [],
   "source": [
    "trial_pp = trial_sequence(estimand=\"PP\")\n",
    "trial_itt = trial_sequence(estimand=\"ITT\")"
   ]
  },
  {
   "cell_type": "markdown",
   "metadata": {},
   "source": [
    "Let's also make sure that we have dedicated directories to save the files for later inspection."
   ]
  },
  {
   "cell_type": "code",
   "execution_count": 4,
   "metadata": {},
   "outputs": [],
   "source": [
    "trial_pp_dir = os.path.join(tempfile.gettempdir(), \"trial_pp\")\n",
    "os.makedirs(trial_pp_dir, exist_ok=True)\n",
    "\n",
    "trial_itt_dir = os.path.join(tempfile.gettempdir(), \"trial_itt\")\n",
    "os.makedirs(trial_itt_dir, exist_ok=True)"
   ]
  },
  {
   "cell_type": "markdown",
   "metadata": {},
   "source": [
    "## 2. Data Preparation"
   ]
  },
  {
   "cell_type": "code",
   "execution_count": 5,
   "metadata": {},
   "outputs": [
    {
     "data": {
      "text/html": [
       "<div>\n",
       "<style scoped>\n",
       "    .dataframe tbody tr th:only-of-type {\n",
       "        vertical-align: middle;\n",
       "    }\n",
       "\n",
       "    .dataframe tbody tr th {\n",
       "        vertical-align: top;\n",
       "    }\n",
       "\n",
       "    .dataframe thead th {\n",
       "        text-align: right;\n",
       "    }\n",
       "</style>\n",
       "<table border=\"1\" class=\"dataframe\">\n",
       "  <thead>\n",
       "    <tr style=\"text-align: right;\">\n",
       "      <th></th>\n",
       "      <th>period</th>\n",
       "      <th>treatment</th>\n",
       "      <th>x1</th>\n",
       "      <th>x2</th>\n",
       "      <th>x3</th>\n",
       "      <th>x4</th>\n",
       "      <th>age</th>\n",
       "      <th>age_s</th>\n",
       "      <th>outcome</th>\n",
       "      <th>censored</th>\n",
       "      <th>eligible</th>\n",
       "    </tr>\n",
       "    <tr>\n",
       "      <th>id</th>\n",
       "      <th></th>\n",
       "      <th></th>\n",
       "      <th></th>\n",
       "      <th></th>\n",
       "      <th></th>\n",
       "      <th></th>\n",
       "      <th></th>\n",
       "      <th></th>\n",
       "      <th></th>\n",
       "      <th></th>\n",
       "      <th></th>\n",
       "    </tr>\n",
       "  </thead>\n",
       "  <tbody>\n",
       "    <tr>\n",
       "      <th>1</th>\n",
       "      <td>0</td>\n",
       "      <td>1</td>\n",
       "      <td>1</td>\n",
       "      <td>1.146148</td>\n",
       "      <td>0</td>\n",
       "      <td>0.734203</td>\n",
       "      <td>36</td>\n",
       "      <td>0.083333</td>\n",
       "      <td>0</td>\n",
       "      <td>0</td>\n",
       "      <td>1</td>\n",
       "    </tr>\n",
       "    <tr>\n",
       "      <th>2</th>\n",
       "      <td>0</td>\n",
       "      <td>0</td>\n",
       "      <td>1</td>\n",
       "      <td>-0.802142</td>\n",
       "      <td>0</td>\n",
       "      <td>-0.990794</td>\n",
       "      <td>26</td>\n",
       "      <td>-0.750000</td>\n",
       "      <td>0</td>\n",
       "      <td>0</td>\n",
       "      <td>1</td>\n",
       "    </tr>\n",
       "    <tr>\n",
       "      <th>3</th>\n",
       "      <td>0</td>\n",
       "      <td>1</td>\n",
       "      <td>0</td>\n",
       "      <td>0.571029</td>\n",
       "      <td>1</td>\n",
       "      <td>0.391966</td>\n",
       "      <td>48</td>\n",
       "      <td>1.083333</td>\n",
       "      <td>0</td>\n",
       "      <td>0</td>\n",
       "      <td>1</td>\n",
       "    </tr>\n",
       "    <tr>\n",
       "      <th>4</th>\n",
       "      <td>0</td>\n",
       "      <td>0</td>\n",
       "      <td>0</td>\n",
       "      <td>-0.107079</td>\n",
       "      <td>1</td>\n",
       "      <td>-1.613258</td>\n",
       "      <td>29</td>\n",
       "      <td>-0.500000</td>\n",
       "      <td>0</td>\n",
       "      <td>0</td>\n",
       "      <td>1</td>\n",
       "    </tr>\n",
       "    <tr>\n",
       "      <th>5</th>\n",
       "      <td>0</td>\n",
       "      <td>1</td>\n",
       "      <td>1</td>\n",
       "      <td>0.749092</td>\n",
       "      <td>0</td>\n",
       "      <td>1.620330</td>\n",
       "      <td>32</td>\n",
       "      <td>-0.250000</td>\n",
       "      <td>0</td>\n",
       "      <td>0</td>\n",
       "      <td>1</td>\n",
       "    </tr>\n",
       "  </tbody>\n",
       "</table>\n",
       "</div>"
      ],
      "text/plain": [
       "    period  treatment  x1        x2  x3        x4  age     age_s  outcome  \\\n",
       "id                                                                          \n",
       "1        0          1   1  1.146148   0  0.734203   36  0.083333        0   \n",
       "2        0          0   1 -0.802142   0 -0.990794   26 -0.750000        0   \n",
       "3        0          1   0  0.571029   1  0.391966   48  1.083333        0   \n",
       "4        0          0   0 -0.107079   1 -1.613258   29 -0.500000        0   \n",
       "5        0          1   1  0.749092   0  1.620330   32 -0.250000        0   \n",
       "\n",
       "    censored  eligible  \n",
       "id                      \n",
       "1          0         1  \n",
       "2          0         1  \n",
       "3          0         1  \n",
       "4          0         1  \n",
       "5          0         1  "
      ]
     },
     "execution_count": 5,
     "metadata": {},
     "output_type": "execute_result"
    }
   ],
   "source": [
    "data_censored = pd.read_csv(\"data_censored.csv\")\n",
    "data_censored.groupby(\"id\").first().head()"
   ]
  },
  {
   "cell_type": "code",
   "execution_count": 6,
   "metadata": {},
   "outputs": [
    {
     "data": {
      "text/plain": [
       "\n",
       "Trial Sequence Object\n",
       "Estimand: Intent-to-Treat\n",
       "\n",
       "Data:\n",
       "   id  period  treatment  x1        x2  x3        x4  age     age_s  outcome  \\\n",
       "0   1       0          1   1  1.146148   0  0.734203   36  0.083333        0   \n",
       "1   1       1          1   1  0.002200   0  0.734203   37  0.166667        0   \n",
       "2   1       2          1   0 -0.481762   0  0.734203   38  0.250000        0   \n",
       "3   1       3          1   0  0.007872   0  0.734203   39  0.333333        0   \n",
       "4   1       4          1   1  0.216054   0  0.734203   40  0.416667        0   \n",
       "\n",
       "   ...  eligible  time_of_event  first  am_1  cumA  switch  regime_start  \\\n",
       "0  ...         1         9999.0   True   0.0   2.0       0             0   \n",
       "1  ...         0         9999.0  False   1.0   3.0       0             1   \n",
       "2  ...         0         9999.0  False   1.0   4.0       0             2   \n",
       "3  ...         0         9999.0  False   1.0   5.0       0             3   \n",
       "4  ...         0         9999.0  False   1.0   6.0       0             4   \n",
       "\n",
       "   time_on_regime  eligible0  eligible1  \n",
       "0               0          1          0  \n",
       "1               1          0          1  \n",
       "2               1          0          1  \n",
       "3               1          0          1  \n",
       "4               1          0          1  \n",
       "\n",
       "[5 rows x 21 columns]\n",
       "        "
      ]
     },
     "execution_count": 6,
     "metadata": {},
     "output_type": "execute_result"
    }
   ],
   "source": [
    "trial_pp.set_data(\n",
    "    id=\"id\",\n",
    "    period=\"period\",\n",
    "    outcome=\"outcome\",\n",
    "    eligible=\"eligible\",\n",
    "    treatment=\"treatment\",\n",
    "    data=data_censored\n",
    ")\n",
    "\n",
    "trial_itt.set_data(\n",
    "    id=\"id\",\n",
    "    period=\"period\",\n",
    "    outcome=\"outcome\",\n",
    "    eligible=\"eligible\",\n",
    "    treatment=\"treatment\",\n",
    "    data=data_censored\n",
    ")\n",
    "\n",
    "trial_itt"
   ]
  },
  {
   "cell_type": "markdown",
   "metadata": {},
   "source": [
    "## 3. Weight Models and Censoring\n",
    "\n",
    "The tutorial used inverse probability of censoring weights (IPCW) to adjust for the effects of informative censoring. To estimate these weights, it constructed time-to-censoring event models and fit two sets of models: one for censoring due to deviation from the assigned treatment, and another for other forms of informative censoring.\n",
    "\n",
    "### 3.1 Censoring Due to Treatment Switching\n",
    "\n",
    "The tutorial demonstrates how to set up model formulas for estimating the probability of receiving treatment in the current period. It fits separate models for patients who received treatment $(treatment = 1)$ and those who did not $(treatment = 0)$ in the previous period. To obtain stabilized weights, the approach involves fitting both numerator and denominator models.\n",
    "\n",
    "Also, the tutorial outlines optional arguments that allow you to specify columns to include or exclude observations from the treatment models. This can be particularly useful when a patient is unable to deviate from a particular treatment assignment during a given period."
   ]
  },
  {
   "cell_type": "code",
   "execution_count": 7,
   "metadata": {},
   "outputs": [
    {
     "data": {
      "text/plain": [
       "Numerator formula: treatment ~ age\n",
       "Denominator formula: treatment ~ age + x1 + x3\n",
       "Model fitter type: te_stats_glm_logit"
      ]
     },
     "execution_count": 7,
     "metadata": {},
     "output_type": "execute_result"
    }
   ],
   "source": [
    "trial_pp.set_switch_weight_model(\n",
    "    numerator=\"age\",\n",
    "    denominator=\"age + x1 + x3\",\n",
    "    model_fitter=stats_glm_logit(save_path=os.path.join(trial_pp_dir, \"switch_models\"))\n",
    ")\n",
    "\n",
    "trial_pp.switch_weights"
   ]
  },
  {
   "cell_type": "markdown",
   "metadata": {},
   "source": [
    "If we attempted this function on a ITT estimand, the function will raise an error."
   ]
  },
  {
   "cell_type": "markdown",
   "metadata": {},
   "source": [
    "### 3.2 Other Informative Censoring\n",
    "\n",
    "The tutorial introduced that if there’s additional informative censoring in the data, you can build similar models to estimate the inverse probability of censoring weights (IPCW). This method works for all estimands, and you simply need to specify the `censor_event` column as the censoring indicator."
   ]
  },
  {
   "cell_type": "code",
   "execution_count": 8,
   "metadata": {},
   "outputs": [
    {
     "data": {
      "text/plain": [
       "Numerator formula: 1 - censored ~ x2\n",
       "Denominator formula: 1 - censored ~ x2 + x1\n",
       "Model fitter type: te_stats_glm_logit"
      ]
     },
     "execution_count": 8,
     "metadata": {},
     "output_type": "execute_result"
    }
   ],
   "source": [
    "trial_pp.set_censor_weight_model(\n",
    "    censor_event=\"censored\",\n",
    "    numerator=\"x2\",\n",
    "    denominator=\"x2 + x1\",\n",
    "    pool_models=None,\n",
    "    model_fitter=stats_glm_logit(save_path=os.path.join(trial_pp_dir, \"switch_models\"))\n",
    ")\n",
    "\n",
    "trial_pp.censor_weights"
   ]
  },
  {
   "cell_type": "code",
   "execution_count": 9,
   "metadata": {},
   "outputs": [
    {
     "data": {
      "text/plain": [
       "Numerator formula: 1 - censored ~ x2\n",
       "Denominator formula: 1 - censored ~ x2 + x1\n",
       "Numerator model is pooled across treatment arms. Denominator model is not pooled\n",
       "Model fitter type: te_stats_glm_logit"
      ]
     },
     "execution_count": 9,
     "metadata": {},
     "output_type": "execute_result"
    }
   ],
   "source": [
    "trial_itt.set_censor_weight_model(\n",
    "    censor_event=\"censored\",\n",
    "    numerator=\"x2\",\n",
    "    denominator=\"x2 + x1\",\n",
    "    pool_models=\"numerator\",\n",
    "    model_fitter=stats_glm_logit(save_path=os.path.join(trial_itt_dir, \"switch_models\"))\n",
    ")\n",
    "\n",
    "trial_itt.censor_weights"
   ]
  },
  {
   "cell_type": "markdown",
   "metadata": {},
   "source": [
    "## 4. Calculate Weights\n",
    "\n",
    "The tutorial then demonstrates how to fit each individual model and merge them into a set of weights using the `calculate_weights()` function."
   ]
  },
  {
   "cell_type": "code",
   "execution_count": 10,
   "metadata": {},
   "outputs": [
    {
     "ename": "AttributeError",
     "evalue": "module 'parsnip' has no attribute 'fit'",
     "output_type": "error",
     "traceback": [
      "\u001b[0;31m---------------------------------------------------------------------------\u001b[0m",
      "\u001b[0;31mAttributeError\u001b[0m                            Traceback (most recent call last)",
      "Cell \u001b[0;32mIn[10], line 1\u001b[0m\n\u001b[0;32m----> 1\u001b[0m \u001b[43mtrial_pp\u001b[49m\u001b[38;5;241;43m.\u001b[39;49m\u001b[43mcalculate_weights\u001b[49m\u001b[43m(\u001b[49m\u001b[43m)\u001b[49m\n\u001b[1;32m      2\u001b[0m trial_itt\u001b[38;5;241m.\u001b[39mcalculate_weights()\n",
      "File \u001b[0;32m/media/New Volume/Documents/GitHub/tte-insighting/src/trial_sequence/__init__.py:216\u001b[0m, in \u001b[0;36mtrial_sequence.calculate_weights\u001b[0;34m(self)\u001b[0m\n\u001b[1;32m    214\u001b[0m \u001b[38;5;28;01mif\u001b[39;00m \u001b[38;5;28mself\u001b[39m\u001b[38;5;241m.\u001b[39mswitch_weights \u001b[38;5;129;01mis\u001b[39;00m \u001b[38;5;129;01mnot\u001b[39;00m \u001b[38;5;28;01mNone\u001b[39;00m:\n\u001b[1;32m    215\u001b[0m     \u001b[38;5;28;01mif\u001b[39;00m \u001b[38;5;28mself\u001b[39m\u001b[38;5;241m.\u001b[39mswitch_weights \u001b[38;5;129;01mis\u001b[39;00m \u001b[38;5;129;01mnot\u001b[39;00m \u001b[38;5;28;01mNone\u001b[39;00m:\n\u001b[0;32m--> 216\u001b[0m         \u001b[38;5;28mself\u001b[39m \u001b[38;5;241m=\u001b[39m \u001b[43mcalculate_switch_weights\u001b[49m\u001b[43m(\u001b[49m\u001b[38;5;28;43mself\u001b[39;49m\u001b[43m)\u001b[49m\n\u001b[1;32m    217\u001b[0m         \u001b[38;5;28mself\u001b[39m\u001b[38;5;241m.\u001b[39mdata\u001b[38;5;241m.\u001b[39mwt \u001b[38;5;241m*\u001b[39m\u001b[38;5;241m=\u001b[39m \u001b[38;5;28mself\u001b[39m\u001b[38;5;241m.\u001b[39mdata\u001b[38;5;241m.\u001b[39mwtS\n\u001b[1;32m    219\u001b[0m \u001b[38;5;28;01mif\u001b[39;00m \u001b[38;5;28mself\u001b[39m\u001b[38;5;241m.\u001b[39mcensor_weights \u001b[38;5;129;01mis\u001b[39;00m \u001b[38;5;129;01mnot\u001b[39;00m \u001b[38;5;28;01mNone\u001b[39;00m:\n",
      "File \u001b[0;32m/media/New Volume/Documents/GitHub/tte-insighting/src/trial_sequence/calculate_weights.py:62\u001b[0m, in \u001b[0;36mcalculate_switch_weights\u001b[0;34m(object)\u001b[0m\n\u001b[1;32m     58\u001b[0m     data_1_expr \u001b[38;5;241m=\u001b[39m \u001b[38;5;28mobject\u001b[39m\u001b[38;5;241m.\u001b[39mdata\u001b[38;5;241m.\u001b[39mdata[\u001b[38;5;124m\"\u001b[39m\u001b[38;5;124mam_1\u001b[39m\u001b[38;5;124m\"\u001b[39m] \u001b[38;5;241m==\u001b[39m \u001b[38;5;241m1\u001b[39m\n\u001b[1;32m     60\u001b[0m model_1_index \u001b[38;5;241m=\u001b[39m \u001b[38;5;28mobject\u001b[39m\u001b[38;5;241m.\u001b[39mdata\u001b[38;5;241m.\u001b[39mdata[data_1_expr]\u001b[38;5;241m.\u001b[39mindex\n\u001b[0;32m---> 62\u001b[0m \u001b[38;5;28mobject\u001b[39m\u001b[38;5;241m.\u001b[39mswitch_weights\u001b[38;5;241m.\u001b[39mfitted\u001b[38;5;241m.\u001b[39mn1 \u001b[38;5;241m=\u001b[39m \u001b[43mfit_weights_model\u001b[49m\u001b[43m(\u001b[49m\n\u001b[1;32m     63\u001b[0m \u001b[43m    \u001b[49m\u001b[38;5;28;43mobject\u001b[39;49m\u001b[38;5;241;43m=\u001b[39;49m\u001b[38;5;28;43mobject\u001b[39;49m\u001b[38;5;241;43m.\u001b[39;49m\u001b[43mswitch_weights\u001b[49m\u001b[38;5;241;43m.\u001b[39;49m\u001b[43mmodel_fitter\u001b[49m\u001b[43m,\u001b[49m\n\u001b[1;32m     64\u001b[0m \u001b[43m    \u001b[49m\u001b[43mdata\u001b[49m\u001b[38;5;241;43m=\u001b[39;49m\u001b[38;5;28;43mobject\u001b[39;49m\u001b[38;5;241;43m.\u001b[39;49m\u001b[43mdata\u001b[49m\u001b[38;5;241;43m.\u001b[39;49m\u001b[43mdata\u001b[49m\u001b[38;5;241;43m.\u001b[39;49m\u001b[43mloc\u001b[49m\u001b[43m[\u001b[49m\u001b[43mmodel_1_index\u001b[49m\u001b[43m]\u001b[49m\u001b[43m,\u001b[49m\n\u001b[1;32m     65\u001b[0m \u001b[43m    \u001b[49m\u001b[43mformula\u001b[49m\u001b[38;5;241;43m=\u001b[39;49m\u001b[38;5;28;43mobject\u001b[39;49m\u001b[38;5;241;43m.\u001b[39;49m\u001b[43mswitch_weights\u001b[49m\u001b[38;5;241;43m.\u001b[39;49m\u001b[43mnumerator\u001b[49m\u001b[43m,\u001b[49m\n\u001b[1;32m     66\u001b[0m \u001b[43m    \u001b[49m\u001b[43mlabel\u001b[49m\u001b[38;5;241;43m=\u001b[39;49m\u001b[38;5;124;43m\"\u001b[39;49m\u001b[38;5;124;43mP(treatment = 1 | previous treatment = 1) for numerator\u001b[39;49m\u001b[38;5;124;43m\"\u001b[39;49m\u001b[43m,\u001b[49m\n\u001b[1;32m     67\u001b[0m \u001b[43m\u001b[49m\u001b[43m)\u001b[49m\n\u001b[1;32m     68\u001b[0m \u001b[38;5;28mobject\u001b[39m\u001b[38;5;241m.\u001b[39mdata\u001b[38;5;241m.\u001b[39mdata\u001b[38;5;241m.\u001b[39mloc[model_1_index, \u001b[38;5;124m\"\u001b[39m\u001b[38;5;124mp_n\u001b[39m\u001b[38;5;124m\"\u001b[39m] \u001b[38;5;241m=\u001b[39m (\n\u001b[1;32m     69\u001b[0m     \u001b[38;5;28mobject\u001b[39m\u001b[38;5;241m.\u001b[39mswitch_weights\u001b[38;5;241m.\u001b[39mfitted\u001b[38;5;241m.\u001b[39mn1\u001b[38;5;241m.\u001b[39mfitted\n\u001b[1;32m     70\u001b[0m )\n\u001b[1;32m     71\u001b[0m \u001b[38;5;28mobject\u001b[39m\u001b[38;5;241m.\u001b[39mswitch_weights\u001b[38;5;241m.\u001b[39mdata_subset_expr[\u001b[38;5;124m\"\u001b[39m\u001b[38;5;124mn1\u001b[39m\u001b[38;5;124m\"\u001b[39m] \u001b[38;5;241m=\u001b[39m data_1_expr\n",
      "File \u001b[0;32m/media/New Volume/Documents/GitHub/tte-insighting/src/trial_sequence/calculate_weights.py:16\u001b[0m, in \u001b[0;36mfit_weights_model\u001b[0;34m(object, data, formula, label)\u001b[0m\n\u001b[1;32m     11\u001b[0m \u001b[38;5;28;01mdef\u001b[39;00m\u001b[38;5;250m \u001b[39m\u001b[38;5;21mfit_weights_model\u001b[39m(\n\u001b[1;32m     12\u001b[0m     \u001b[38;5;28mobject\u001b[39m: te_stats_glm_logit, data: pd\u001b[38;5;241m.\u001b[39mDataFrame, formula: \u001b[38;5;28mstr\u001b[39m, label: \u001b[38;5;28mstr\u001b[39m\n\u001b[1;32m     13\u001b[0m ) \u001b[38;5;241m-\u001b[39m\u001b[38;5;241m>\u001b[39m te_weights_fitted:\n\u001b[1;32m     14\u001b[0m     data[\u001b[38;5;124m\"\u001b[39m\u001b[38;5;124mtreatment\u001b[39m\u001b[38;5;124m\"\u001b[39m] \u001b[38;5;241m=\u001b[39m pd\u001b[38;5;241m.\u001b[39mCategorical(data[\u001b[38;5;124m\"\u001b[39m\u001b[38;5;124mtreatment\u001b[39m\u001b[38;5;124m\"\u001b[39m], categories\u001b[38;5;241m=\u001b[39m[\u001b[38;5;241m0\u001b[39m, \u001b[38;5;241m1\u001b[39m])\n\u001b[0;32m---> 16\u001b[0m     parsnip_fit \u001b[38;5;241m=\u001b[39m \u001b[43mparsnip\u001b[49m\u001b[38;5;241;43m.\u001b[39;49m\u001b[43mfit\u001b[49m(\u001b[38;5;28mobject\u001b[39m\u001b[38;5;241m.\u001b[39mmodel_spec, formula, data\u001b[38;5;241m=\u001b[39mdata)\n\u001b[1;32m     18\u001b[0m     \u001b[38;5;28;01mif\u001b[39;00m \u001b[38;5;28mobject\u001b[39m\u001b[38;5;241m.\u001b[39msave_path \u001b[38;5;129;01mis\u001b[39;00m \u001b[38;5;129;01mnot\u001b[39;00m \u001b[38;5;28;01mNone\u001b[39;00m:\n\u001b[1;32m     19\u001b[0m         \u001b[38;5;28;01mif\u001b[39;00m \u001b[38;5;129;01mnot\u001b[39;00m os\u001b[38;5;241m.\u001b[39mpath\u001b[38;5;241m.\u001b[39mexists(\u001b[38;5;28mobject\u001b[39m\u001b[38;5;241m.\u001b[39msave_path):\n",
      "\u001b[0;31mAttributeError\u001b[0m: module 'parsnip' has no attribute 'fit'"
     ]
    }
   ],
   "source": [
    "trial_pp.calculate_weights()\n",
    "trial_itt.calculate_weights()"
   ]
  }
 ],
 "metadata": {
  "kernelspec": {
   "display_name": ".venv",
   "language": "python",
   "name": "python3"
  },
  "language_info": {
   "codemirror_mode": {
    "name": "ipython",
    "version": 3
   },
   "file_extension": ".py",
   "mimetype": "text/x-python",
   "name": "python",
   "nbconvert_exporter": "python",
   "pygments_lexer": "ipython3",
   "version": "3.13.1"
  }
 },
 "nbformat": 4,
 "nbformat_minor": 2
}
